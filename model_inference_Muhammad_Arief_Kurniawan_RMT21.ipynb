{
 "cells": [
  {
   "cell_type": "code",
   "execution_count": 27,
   "metadata": {},
   "outputs": [],
   "source": [
    "import joblib\n",
    "import re\n",
    "from Sastrawi.Stemmer.StemmerFactory import StemmerFactory\n",
    "from Sastrawi.StopWordRemover.StopWordRemoverFactory import StopWordRemoverFactory\n",
    "from nltk.tokenize import word_tokenize\n",
    "import re\n",
    "from nltk.tokenize import word_tokenize\n",
    "from Sastrawi.Stemmer.StemmerFactory import StemmerFactory\n",
    "import emoji\n",
    "\n",
    "# Load the trained model and vectorizer\n",
    "#model_path = \"hard_voting_classifier.pkl\"\n",
    "#vectorizer_path = \"vectorizer.pkl\"\n",
    "\n",
    "#loaded_model = joblib.load(model_path)\n",
    "#loaded_vectorizer = joblib.load(vectorizer_path)"
   ]
  },
  {
   "cell_type": "code",
   "execution_count": 28,
   "metadata": {},
   "outputs": [],
   "source": [
    "# 1. Load the model and vectorizer\n",
    "model = joblib.load(\"hard_voting_classifier.pkl\")\n",
    "vectorizer = joblib.load(\"vectorizer.pkl\")"
   ]
  },
  {
   "cell_type": "code",
   "execution_count": 29,
   "metadata": {},
   "outputs": [],
   "source": [
    "with open(\"Indonesia_stopwords.txt\", \"r\") as f:\n",
    "    custom_stopwords = [word.strip() for word in f.readlines()]"
   ]
  },
  {
   "cell_type": "code",
   "execution_count": 30,
   "metadata": {},
   "outputs": [],
   "source": [
    "def preprocess_data(text):\n",
    "\n",
    "    # Case Folding\n",
    "    def case_folding(text):\n",
    "        return text.lower()\n",
    "\n",
    "\n",
    "    # Sentence Normalization\n",
    "    def normalize_sentence(text):\n",
    "    # Translate emojis to their word representation\n",
    "     text = emoji.demojize(text)\n",
    "    \n",
    "    # Remove URLs\n",
    "     text = re.sub(r'http[s]?://\\S+', '', text)\n",
    "    \n",
    "    # Remove numbers\n",
    "     text = re.sub(r'\\d+', '', text)\n",
    "    \n",
    "    # Remove non-alphanumeric characters except for spaces\n",
    "     text = re.sub(r'[^a-zA-Z0-9\\s]', '', text)\n",
    "    \n",
    "     return text\n",
    "    \n",
    "    # Word Tokenization\n",
    "    tokens = word_tokenize(text)\n",
    "    \n",
    "    # Stop Words Removal\n",
    "    tokens = [word for word in tokens if word not in custom_stopwords]\n",
    "    \n",
    "    # Stemming\n",
    "    stemmer = StemmerFactory().create_stemmer()\n",
    "\n",
    "    tokens = [stemmer.stem(word) for word in tokens]\n",
    "    \n",
    "    return ' '.join(tokens)\n",
    "\n",
    "def predict_sentiment(text):\n",
    "    # Preprocess the data\n",
    "    preprocessed_text = preprocess_data(text)\n",
    "    \n",
    "    # Convert the preprocessed data into a vectorized format\n",
    "    vectorized_text = vectorizer.transform([preprocessed_text])\n",
    "    \n",
    "    # Predict the sentiment using the model\n",
    "    prediction = model.predict(vectorized_text)\n",
    "    \n",
    "    return \"Positive\" if prediction[0] == 1 else \"Negative\"\n"
   ]
  },
  {
   "cell_type": "code",
   "execution_count": 31,
   "metadata": {},
   "outputs": [
    {
     "name": "stdout",
     "output_type": "stream",
     "text": [
      "[1, 0, 1]\n"
     ]
    }
   ],
   "source": [
    "def predict_sentiment(text):\n",
    "    preprocessed_text = preprocess_data(text)\n",
    "    vectorized_text = vectorizer.transform([preprocessed_text])\n",
    "    prediction = model.predict(vectorized_text)\n",
    "    return prediction[0]  # Return the number directly instead of the string\n",
    "\n",
    "unseen_data = [\"wahh saya suka ini, tapi perlu ada fitur tambahan\",\n",
    "               \"setelah diupdate, aplikasi ini sering crash di ponsel saya\",\n",
    "               \"aplikasi ini sangat membantu saya dalam mengatur keuangan saya\",]\n",
    "\n",
    "predictions = [predict_sentiment(text) for text in unseen_data]\n",
    "print(predictions)\n"
   ]
  }
 ],
 "metadata": {
  "kernelspec": {
   "display_name": "Python 3",
   "language": "python",
   "name": "python3"
  },
  "language_info": {
   "codemirror_mode": {
    "name": "ipython",
    "version": 3
   },
   "file_extension": ".py",
   "mimetype": "text/x-python",
   "name": "python",
   "nbconvert_exporter": "python",
   "pygments_lexer": "ipython3",
   "version": "3.11.4"
  },
  "orig_nbformat": 4
 },
 "nbformat": 4,
 "nbformat_minor": 2
}
